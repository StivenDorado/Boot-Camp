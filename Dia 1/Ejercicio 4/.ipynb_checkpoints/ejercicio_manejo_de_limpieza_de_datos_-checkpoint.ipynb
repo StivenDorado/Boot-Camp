{
  "nbformat": 4,
  "nbformat_minor": 0,
  "metadata": {
    "colab": {
      "provenance": []
    },
    "kernelspec": {
      "name": "python3",
      "display_name": "Python 3"
    },
    "language_info": {
      "name": "python"
    }
  },
  "cells": [
    {
      "cell_type": "markdown",
      "source": [
        "Ejercicio de Manejo y Limpieza de Datos\n",
        "Objetivo:\n",
        "\n",
        "Limpiar un conjunto de datos simulado (un DataFrame de pandas) que contiene errores comunes como valores faltantes, datos duplicados, tipos de datos incorrectos, y formateo inconsistente.\n",
        "\n",
        "Paso 1: Crear el conjunto de datos simulado\n",
        "\n",
        "Primero, vamos a crear un DataFrame con valores faltantes, duplicados, y algunos errores de formato. Para ello utilizamos pandas y numpy."
      ],
      "metadata": {
        "id": "C_Vp8xlVamP2"
      }
    },
    {
      "cell_type": "markdown",
      "source": [
        "1.pandas\n",
        "Descripción : Es una librería de Python utilizada para el manejo y análisis de datos estructurados. Proporciona estructuras de datos como DataFrames y Series que son muy útiles para trabajar con tablas y datos ordenados.\n",
        "Funciones clave :\n",
        "DataFrame: Estructura de datos bidimensional similar a una hoja de cálculo.\n",
        "Series: Estructura unidimensional para almacenar datos, similar a una columna.\n",
        "Manipulación de datos: Filtrar, ordenar, fusionar y transformar datos.\n",
        "Lectura y escritura de archivos: Soporta CSV, Excel, SQL, JSON, entre otros."
      ],
      "metadata": {
        "id": "2rz80Z2a6v-O"
      }
    },
    {
      "cell_type": "markdown",
      "source": [
        "2.numpy\n",
        "Descripción : Es una librería para cálculo numérico. Es eficiente para operaciones matemáticas y manipulación de matrices multidimensionales.\n",
        "Funciones clave :\n",
        "Arrays : Estructura básica que soporta cálculos vectorizados.\n",
        "Funciones matemáticas avanzadas: Álgebra lineal, transformadas de Fourier, generación de números aleatorios.\n",
        "Rápidamente en operaciones sobre grandes volúmenes de datos."
      ],
      "metadata": {
        "id": "VvfvV3Ho64nn"
      }
    },
    {
      "cell_type": "code",
      "source": [
        "import pandas as pd\n",
        "import numpy as np"
      ],
      "metadata": {
        "id": "8_Q41xNwmU9s"
      },
      "execution_count": 1,
      "outputs": []
    },
    {
      "cell_type": "code",
      "execution_count": 2,
      "metadata": {
        "colab": {
          "base_uri": "https://localhost:8080/"
        },
        "id": "mlaH8q3PaXMj",
        "outputId": "c3f9f307-807d-4cd0-9758-28db4dddbfa3"
      },
      "outputs": [
        {
          "output_type": "stream",
          "name": "stdout",
          "text": [
            "   Nombre  Edad     Ciudad Salario Fecha_nacimiento\n",
            "0     Ana  23.0     Madrid    3000       1997-05-21\n",
            "1  Carlos  30.0  Barcelona    4000       1993-08-14\n",
            "2   Pedro  25.0        NaN    3500       1998-11-10\n",
            "3   Maria   NaN     Madrid    3000       1995-12-01\n",
            "4    Jose  22.0    Sevilla     NaN       2000-01-15\n",
            "5  Carlos  30.0  Barcelona    4000       1993-08-14\n",
            "6     Ana  23.0     Madrid    3500       1997-05-21\n",
            "7     NaN  28.0    Sevilla    3000       2000-01-15\n"
          ]
        }
      ],
      "source": [
        "\n",
        "\n",
        "# Crear un DataFrame simulado\n",
        "data = {\n",
        "    'Nombre': ['Ana', 'Carlos', 'Pedro', 'Maria', 'Jose', 'Carlos', 'Ana', np.nan],\n",
        "    'Edad': [23, 30, 25, np.nan, 22, 30, 23, 28],\n",
        "    'Ciudad': ['Madrid', 'Barcelona', np.nan, 'Madrid', 'Sevilla', 'Barcelona', 'Madrid', 'Sevilla'],\n",
        "    'Salario': ['3000', '4000', '3500', '3000', np.nan, '4000', '3500', '3000'],\n",
        "    'Fecha_nacimiento': ['1997-05-21', '1993-08-14', '1998-11-10', '1995-12-01', '2000-01-15', '1993-08-14', '1997-05-21', '2000-01-15']\n",
        "}\n",
        "\n",
        "# Crear DataFrame\n",
        "df = pd.DataFrame(data)\n",
        "print(df)\n"
      ]
    },
    {
      "cell_type": "markdown",
      "source": [
        "Paso 2: Identificar valores faltantes (NaN)\n",
        "\n",
        "Uno de los primeros pasos al limpiar datos es detectar valores faltantes (NaN). Utiliza los métodos isna() o isnull() para identificarlos."
      ],
      "metadata": {
        "id": "38wwAciqavht"
      }
    },
    {
      "cell_type": "code",
      "source": [
        "# Detectar valores faltantes\n",
        "print(df.isna().sum())\n"
      ],
      "metadata": {
        "id": "eIV9ClEvawqK"
      },
      "execution_count": null,
      "outputs": []
    },
    {
      "cell_type": "markdown",
      "source": [
        "Esto te mostrará el número de valores faltantes en cada columna."
      ],
      "metadata": {
        "id": "Z5zANh37a6sD"
      }
    },
    {
      "cell_type": "markdown",
      "source": [
        "Paso 3: Corregir tipos de datos\n",
        "\n",
        "En nuestro DataFrame, la columna Salario es un string, pero debería ser un valor numérico. Vamos a convertirla en tipo float."
      ],
      "metadata": {
        "id": "hUx8e1Pfa1Kz"
      }
    },
    {
      "cell_type": "code",
      "source": [
        "# Convertir la columna 'Salario' a numérica\n",
        "df['Salario'] = pd.to_numeric(df['Salario'], errors='coerce')\n",
        "# Verificar los tipos de datos\n",
        "print(df.dtypes)"
      ],
      "metadata": {
        "id": "l5PBYkq4oXin"
      },
      "execution_count": null,
      "outputs": []
    },
    {
      "cell_type": "markdown",
      "source": [
        "Paso 4: Imputar o eliminar valores faltantes\n",
        "\n",
        "Puedes decidir cómo manejar los valores faltantes: eliminarlos, o imputarlos (rellenarlos) con un valor como la media, la mediana, o un valor constante."
      ],
      "metadata": {
        "id": "pKNCXa4xobme"
      }
    },
    {
      "cell_type": "code",
      "source": [
        "# Imputar valores faltantes de 'Nombre' con 'Desconocido'\n",
        "df['Nombre'] = df['Nombre'].fillna('Desconocido')\n",
        "\n",
        "# Imputar valores faltantes de 'Edad' con la media de la columna\n",
        "df['Edad'] = df['Edad'].fillna(df['Edad'].mean())\n",
        "\n",
        "# Imputar valores faltantes de 'Ciudad' con 'Desconocida'\n",
        "df['Ciudad'] = df['Ciudad'].fillna('Desconocida')\n",
        "\n",
        "# Imputar valores faltantes de 'Salario' con la mediana de la columna\n",
        "df['Salario'] = df['Salario'].fillna(df['Salario'].median())\n",
        "\n",
        "print(df)\n"
      ],
      "metadata": {
        "id": "SJnOLQZja8Uv"
      },
      "execution_count": null,
      "outputs": []
    },
    {
      "cell_type": "markdown",
      "source": [
        "Paso 5: Eliminar duplicados\n",
        "\n",
        "Es importante verificar si hay filas duplicadas. Puedes usar drop_duplicates() para eliminar filas idéntic"
      ],
      "metadata": {
        "id": "41brZDo7cJv9"
      }
    },
    {
      "cell_type": "code",
      "source": [
        "# Eliminar filas duplicadas\n",
        "#Por ejemplo, elimine duplicados basados ​​solo en la columnaNombre:\n",
        "#df.drop_duplicates(inplace=True)\n",
        "df = df.drop_duplicates(subset=['Nombre'])\n",
        "\n",
        "# Verificar el DataFrame después de eliminar duplicados\n",
        "print(df)\n"
      ],
      "metadata": {
        "id": "0mgTn6ZScOXS"
      },
      "execution_count": null,
      "outputs": []
    },
    {
      "cell_type": "markdown",
      "source": [
        "Paso 6: Corregir errores de formato\n",
        "\n",
        "Al revisar las fechas en la columna Fecha_nacimiento, es posible que haya errores en el formato. Vamos a asegurarnos de que todas las fechas tengan el formato adecuado."
      ],
      "metadata": {
        "id": "DKfY9FCIcTUu"
      }
    },
    {
      "cell_type": "code",
      "source": [
        "# Convertir la columna 'Fecha_nacimiento' al tipo datetime\n",
        "df['Fecha_nacimiento'] = pd.to_datetime(df['Fecha_nacimiento'], errors='coerce')\n",
        "\n",
        "# Verificar si hay algún error en la conversión de fechas (NaT - Not a Time)\n",
        "print(df['Fecha_nacimiento'])\n"
      ],
      "metadata": {
        "id": "ITxjOv6ucW-r"
      },
      "execution_count": null,
      "outputs": []
    },
    {
      "cell_type": "markdown",
      "source": [
        "Paso 7: Filtrar datos (opcional)\n",
        "\n",
        "Supongamos que solo te interesan las personas mayores de 25 años. Puedes filtrar los datos según una condición."
      ],
      "metadata": {
        "id": "W5RqMqYFczw3"
      }
    },
    {
      "cell_type": "code",
      "source": [
        "# Filtrar personas mayores de 25 años\n",
        "df_filtrado = df[df['Edad'] > 25]\n",
        "\n",
        "print(df_filtrado)\n"
      ],
      "metadata": {
        "id": "pNa-OqZmczZF"
      },
      "execution_count": null,
      "outputs": []
    },
    {
      "cell_type": "markdown",
      "source": [
        "Paso 8: Revisión final\n",
        "\n",
        "Por último, revisa el DataFrame final para asegurarte de que los datos estén limpios."
      ],
      "metadata": {
        "id": "xwOziYhBc-F-"
      }
    },
    {
      "cell_type": "code",
      "source": [
        "# Ver el DataFrame limpio\n",
        "print(df)\n"
      ],
      "metadata": {
        "id": "tFX25wfDdDTs"
      },
      "execution_count": null,
      "outputs": []
    }
  ]
}