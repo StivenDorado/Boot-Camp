{
  "nbformat": 4,
  "nbformat_minor": 0,
  "metadata": {
    "colab": {
      "provenance": []
    },
    "kernelspec": {
      "name": "python3",
      "display_name": "Python 3"
    },
    "language_info": {
      "name": "python"
    }
  },
  "cells": [
    {
      "cell_type": "markdown",
      "source": [
        "https://www.kaggle.com/datasets/iamtapendu/chest-x-ray-lungs-segmentation\n",
        "\n",
        "\n",
        "```\n",
        "Conjunto de datos de radiografías de tórax para segmentación de tuberculosis\n",
        "```\n",
        "# Acerca del conjunto de datos\n",
        "\n",
        "*Descripción del conjunto de datos de radiografías de tórax (Montgomery y Shenzhen)\n",
        "Este conjunto de datos consta de 704 imágenes de radiografías de tórax que se seleccionaron de dos fuentes: la base de datos de radiografías de tórax del condado de Montgomery (EE. UU.) y la base de datos de radiografías de tórax de Shenzhen (China). Las imágenes se utilizan para entrenar y evaluar modelos de aprendizaje automático para la detección de tuberculosis (TB) .\n",
        "\n",
        "El conjunto de datos contiene radiografías de tórax tanto positivas como normales para tuberculosis, junto con detalles demográficos como género , edad y condado de origen. Las imágenes están acompañadas de máscaras de segmentación pulmonar y metadatos clínicos , lo que hace que el conjunto de datos sea muy adecuado para aplicaciones de aprendizaje profundo en imágenes médicas.\n",
        "\n",
        "*\n"
      ],
      "metadata": {
        "id": "wNIdykp-vrIK"
      }
    },
    {
      "cell_type": "code",
      "execution_count": 1,
      "metadata": {
        "id": "D7NqBWF6dfh4",
        "colab": {
          "base_uri": "https://localhost:8080/",
          "height": 73
        },
        "outputId": "f543d2f3-cbb2-490f-a5fd-1de7cd82bb39"
      },
      "outputs": [
        {
          "output_type": "display_data",
          "data": {
            "text/plain": [
              "<IPython.core.display.HTML object>"
            ],
            "text/html": [
              "\n",
              "     <input type=\"file\" id=\"files-c9e79df0-9291-4abc-acf6-32f8f93c5cf8\" name=\"files[]\" multiple disabled\n",
              "        style=\"border:none\" />\n",
              "     <output id=\"result-c9e79df0-9291-4abc-acf6-32f8f93c5cf8\">\n",
              "      Upload widget is only available when the cell has been executed in the\n",
              "      current browser session. Please rerun this cell to enable.\n",
              "      </output>\n",
              "      <script>// Copyright 2017 Google LLC\n",
              "//\n",
              "// Licensed under the Apache License, Version 2.0 (the \"License\");\n",
              "// you may not use this file except in compliance with the License.\n",
              "// You may obtain a copy of the License at\n",
              "//\n",
              "//      http://www.apache.org/licenses/LICENSE-2.0\n",
              "//\n",
              "// Unless required by applicable law or agreed to in writing, software\n",
              "// distributed under the License is distributed on an \"AS IS\" BASIS,\n",
              "// WITHOUT WARRANTIES OR CONDITIONS OF ANY KIND, either express or implied.\n",
              "// See the License for the specific language governing permissions and\n",
              "// limitations under the License.\n",
              "\n",
              "/**\n",
              " * @fileoverview Helpers for google.colab Python module.\n",
              " */\n",
              "(function(scope) {\n",
              "function span(text, styleAttributes = {}) {\n",
              "  const element = document.createElement('span');\n",
              "  element.textContent = text;\n",
              "  for (const key of Object.keys(styleAttributes)) {\n",
              "    element.style[key] = styleAttributes[key];\n",
              "  }\n",
              "  return element;\n",
              "}\n",
              "\n",
              "// Max number of bytes which will be uploaded at a time.\n",
              "const MAX_PAYLOAD_SIZE = 100 * 1024;\n",
              "\n",
              "function _uploadFiles(inputId, outputId) {\n",
              "  const steps = uploadFilesStep(inputId, outputId);\n",
              "  const outputElement = document.getElementById(outputId);\n",
              "  // Cache steps on the outputElement to make it available for the next call\n",
              "  // to uploadFilesContinue from Python.\n",
              "  outputElement.steps = steps;\n",
              "\n",
              "  return _uploadFilesContinue(outputId);\n",
              "}\n",
              "\n",
              "// This is roughly an async generator (not supported in the browser yet),\n",
              "// where there are multiple asynchronous steps and the Python side is going\n",
              "// to poll for completion of each step.\n",
              "// This uses a Promise to block the python side on completion of each step,\n",
              "// then passes the result of the previous step as the input to the next step.\n",
              "function _uploadFilesContinue(outputId) {\n",
              "  const outputElement = document.getElementById(outputId);\n",
              "  const steps = outputElement.steps;\n",
              "\n",
              "  const next = steps.next(outputElement.lastPromiseValue);\n",
              "  return Promise.resolve(next.value.promise).then((value) => {\n",
              "    // Cache the last promise value to make it available to the next\n",
              "    // step of the generator.\n",
              "    outputElement.lastPromiseValue = value;\n",
              "    return next.value.response;\n",
              "  });\n",
              "}\n",
              "\n",
              "/**\n",
              " * Generator function which is called between each async step of the upload\n",
              " * process.\n",
              " * @param {string} inputId Element ID of the input file picker element.\n",
              " * @param {string} outputId Element ID of the output display.\n",
              " * @return {!Iterable<!Object>} Iterable of next steps.\n",
              " */\n",
              "function* uploadFilesStep(inputId, outputId) {\n",
              "  const inputElement = document.getElementById(inputId);\n",
              "  inputElement.disabled = false;\n",
              "\n",
              "  const outputElement = document.getElementById(outputId);\n",
              "  outputElement.innerHTML = '';\n",
              "\n",
              "  const pickedPromise = new Promise((resolve) => {\n",
              "    inputElement.addEventListener('change', (e) => {\n",
              "      resolve(e.target.files);\n",
              "    });\n",
              "  });\n",
              "\n",
              "  const cancel = document.createElement('button');\n",
              "  inputElement.parentElement.appendChild(cancel);\n",
              "  cancel.textContent = 'Cancel upload';\n",
              "  const cancelPromise = new Promise((resolve) => {\n",
              "    cancel.onclick = () => {\n",
              "      resolve(null);\n",
              "    };\n",
              "  });\n",
              "\n",
              "  // Wait for the user to pick the files.\n",
              "  const files = yield {\n",
              "    promise: Promise.race([pickedPromise, cancelPromise]),\n",
              "    response: {\n",
              "      action: 'starting',\n",
              "    }\n",
              "  };\n",
              "\n",
              "  cancel.remove();\n",
              "\n",
              "  // Disable the input element since further picks are not allowed.\n",
              "  inputElement.disabled = true;\n",
              "\n",
              "  if (!files) {\n",
              "    return {\n",
              "      response: {\n",
              "        action: 'complete',\n",
              "      }\n",
              "    };\n",
              "  }\n",
              "\n",
              "  for (const file of files) {\n",
              "    const li = document.createElement('li');\n",
              "    li.append(span(file.name, {fontWeight: 'bold'}));\n",
              "    li.append(span(\n",
              "        `(${file.type || 'n/a'}) - ${file.size} bytes, ` +\n",
              "        `last modified: ${\n",
              "            file.lastModifiedDate ? file.lastModifiedDate.toLocaleDateString() :\n",
              "                                    'n/a'} - `));\n",
              "    const percent = span('0% done');\n",
              "    li.appendChild(percent);\n",
              "\n",
              "    outputElement.appendChild(li);\n",
              "\n",
              "    const fileDataPromise = new Promise((resolve) => {\n",
              "      const reader = new FileReader();\n",
              "      reader.onload = (e) => {\n",
              "        resolve(e.target.result);\n",
              "      };\n",
              "      reader.readAsArrayBuffer(file);\n",
              "    });\n",
              "    // Wait for the data to be ready.\n",
              "    let fileData = yield {\n",
              "      promise: fileDataPromise,\n",
              "      response: {\n",
              "        action: 'continue',\n",
              "      }\n",
              "    };\n",
              "\n",
              "    // Use a chunked sending to avoid message size limits. See b/62115660.\n",
              "    let position = 0;\n",
              "    do {\n",
              "      const length = Math.min(fileData.byteLength - position, MAX_PAYLOAD_SIZE);\n",
              "      const chunk = new Uint8Array(fileData, position, length);\n",
              "      position += length;\n",
              "\n",
              "      const base64 = btoa(String.fromCharCode.apply(null, chunk));\n",
              "      yield {\n",
              "        response: {\n",
              "          action: 'append',\n",
              "          file: file.name,\n",
              "          data: base64,\n",
              "        },\n",
              "      };\n",
              "\n",
              "      let percentDone = fileData.byteLength === 0 ?\n",
              "          100 :\n",
              "          Math.round((position / fileData.byteLength) * 100);\n",
              "      percent.textContent = `${percentDone}% done`;\n",
              "\n",
              "    } while (position < fileData.byteLength);\n",
              "  }\n",
              "\n",
              "  // All done.\n",
              "  yield {\n",
              "    response: {\n",
              "      action: 'complete',\n",
              "    }\n",
              "  };\n",
              "}\n",
              "\n",
              "scope.google = scope.google || {};\n",
              "scope.google.colab = scope.google.colab || {};\n",
              "scope.google.colab._files = {\n",
              "  _uploadFiles,\n",
              "  _uploadFilesContinue,\n",
              "};\n",
              "})(self);\n",
              "</script> "
            ]
          },
          "metadata": {}
        },
        {
          "output_type": "stream",
          "name": "stdout",
          "text": [
            "Saving MetaData.csv to MetaData.csv\n"
          ]
        }
      ],
      "source": [
        "from google.colab import files\n",
        "uploaded = files.upload()"
      ]
    },
    {
      "cell_type": "code",
      "source": [
        "import pandas as pd\n",
        "import numpy as np"
      ],
      "metadata": {
        "id": "cYOt0V5_hfcp"
      },
      "execution_count": 2,
      "outputs": []
    },
    {
      "cell_type": "code",
      "source": [
        "# Leer el archivo CSV\n",
        "#metadata = pd.read_csv(file_path)\n",
        "metadata = pd.read_csv('MetaData.csv')\n",
        "# Verificar las primeras filas\n",
        "print(metadata.head())"
      ],
      "metadata": {
        "id": "kkxlnMJchafN",
        "colab": {
          "base_uri": "https://localhost:8080/"
        },
        "outputId": "dbbc7e5f-83b0-4481-a37c-742d46c2ea24"
      },
      "execution_count": 3,
      "outputs": [
        {
          "output_type": "stream",
          "name": "stdout",
          "text": [
            "     id gender age    county  ptb                                      remarks\n",
            "0  1000   male  31  Shenxhen    0                                       normal\n",
            "1  1001   male  64  Shenxhen    0                                       normal\n",
            "2  1002   male  35  Shenxhen    0                                       normal\n",
            "3  1003   male  32  Shenxhen    1               STB,ATB,tuberculosis pleuritis\n",
            "4  1004   male   2  Shenxhen    1  secondary PTB  in the bilateral upper field\n"
          ]
        }
      ]
    },
    {
      "cell_type": "markdown",
      "source": [
        "Paso 1: Limpieza inicial del dataset\n",
        "Convertimos la columna age a valores numéricos y verificamos las inconsistencias."
      ],
      "metadata": {
        "id": "o_BfZq3Sgy86"
      }
    },
    {
      "cell_type": "code",
      "source": [
        "# Verificar los valores únicos en la columna 'age' para identificar inconsistencias\n",
        "age_values = metadata['age'].unique()\n",
        "print(\"Valores únicos de la columna 'age':\", age_values)\n",
        "\n",
        "# Limpieza: Convertir 'age' a numérico, reemplazando valores no válidos por NaN\n",
        "metadata['age'] = pd.to_numeric(metadata['age'], errors='coerce')\n",
        "print(\"Datos después de convertir 'age' a numérico:\\n\", metadata['age'].head())\n"
      ],
      "metadata": {
        "id": "eX8Mj2mtg2sf",
        "colab": {
          "base_uri": "https://localhost:8080/"
        },
        "outputId": "87240837-dd4e-4c76-915e-ccde7edb73fa"
      },
      "execution_count": 4,
      "outputs": [
        {
          "output_type": "stream",
          "name": "stdout",
          "text": [
            "Valores únicos de la columna 'age': ['31' '64' '35' '32' '2' '17' '25' '30' '27' '37' '26' '46' '57' '23' '33'\n",
            " '45' '74' '48' '20' '56' '39' '43' '38' '65' '28' '47' '60' '29' '34' '5'\n",
            " '22' '24' '68' '42' '18' '1' '78' '53' '21' '59' '8' '63' '75' '19' '36'\n",
            " '51' '40' '69' '61' '41' '15' '49' '52' '62' '85' '50' '44' '71' '10'\n",
            " '58' '55' '1yr' '6' '76' '7' '54' '39yr' '16month' '3' '67' '81' 'male35'\n",
            " '70' 'female24' '14' '82' '89' '035' '032' '061' '046' '077' '049' '053'\n",
            " '043' '039' '030' '024' '037' '028' '009' '011' '063' '031' '067' '021'\n",
            " '052' '038' '044' '054' '088' '014' '047' '042' '020' '008' '033' '034'\n",
            " '051' '005' '015' '025' '016' '045' '048' '069' '065' '036' '050' '056'\n",
            " '089' '017' '041' '027' '023' '026' '029' '070' '018' '040' '010' '019'\n",
            " '004' '084' '085' '068' '059' '073']\n",
            "Datos después de convertir 'age' a numérico:\n",
            " 0    31.0\n",
            "1    64.0\n",
            "2    35.0\n",
            "3    32.0\n",
            "4     2.0\n",
            "Name: age, dtype: float64\n"
          ]
        }
      ]
    },
    {
      "cell_type": "markdown",
      "source": [
        "Paso 2: Distribución por género y edad\n",
        "Creamos un histograma para visualizar la distribución de edades, segmentado por género."
      ],
      "metadata": {
        "id": "0qt72afhiUWv"
      }
    },
    {
      "cell_type": "code",
      "source": [
        "import matplotlib.pyplot as plt\n",
        "import seaborn as sns\n",
        "\n",
        "# Configurar el tamaño de la figura del gráfico\n",
        "plt.figure(figsize=(12, 6))\n",
        "\n",
        "# Crear un histograma con seaborn\n",
        "# sns.histplot: Función de Seaborn para crear histogramas.\n",
        "# data=metadata: Utiliza el dataset 'metadata' como fuente de datos.\n",
        "# x='age': La variable 'age' será la que se represente en el eje X.\n",
        "# hue='gender': Se segmentarán los datos por género, utilizando colores diferentes para cada grupo.\n",
        "# kde=True: Incluye una curva de densidad (KDE) sobre el histograma, suavizando la distribución.\n",
        "# bins=20: Divide la variable 'age' en 20 intervalos (bins) para el histograma.\n",
        "# palette='muted': Define una paleta de colores suaves para diferenciar los géneros.\n",
        "sns.histplot(data=metadata, x='age', kde=True, bins=20, palette='muted', hue='gender')\n",
        "\n",
        "# Agregar un título al gráfico\n",
        "plt.title('Distribución de Edad por Género', fontsize=16)\n",
        "\n",
        "# Etiquetas de los ejes X y Y\n",
        "plt.xlabel('Edad', fontsize=12)  # Etiqueta del eje X\n",
        "plt.ylabel('Frecuencia', fontsize=12)  # Etiqueta del eje Y\n",
        "\n",
        "# Agregar una cuadrícula vertical (en el eje Y) para facilitar la lectura de los valores\n",
        "plt.grid(axis='y', linestyle='--', alpha=0.7)\n",
        "\n",
        "# Mostrar el gráfico\n",
        "plt.show()\n",
        "\n"
      ],
      "metadata": {
        "id": "9cLWGHK6iSkZ"
      },
      "execution_count": null,
      "outputs": []
    },
    {
      "cell_type": "markdown",
      "source": [
        "Paso 3: Conteo de casos de tuberculosis (ptb)\n",
        "Creamos un gráfico de barras que muestra la cantidad de casos normales y afectados."
      ],
      "metadata": {
        "id": "d_JGTcuzinBP"
      }
    },
    {
      "cell_type": "code",
      "source": [
        "import matplotlib.pyplot as plt\n",
        "import seaborn as sns\n",
        "\n",
        "# Configuración de la figura\n",
        "plt.figure(figsize=(8, 6))\n",
        "\n",
        "# Gráfico de conteo con colores asignados a los valores de 'ptb'\n",
        "sns.countplot(data=metadata, x='ptb', hue='ptb', palette='coolwarm', dodge=False)\n",
        "\n",
        "# Títulos y etiquetas\n",
        "plt.title('Conteo de Casos de Tuberculosis', fontsize=16)\n",
        "plt.xlabel('PTB (0 = Normal, 1 = Afectado)', fontsize=12)\n",
        "plt.ylabel('Cantidad', fontsize=12)\n",
        "\n",
        "# Cuadrícula\n",
        "plt.grid(axis='y', linestyle='--', alpha=0.7)\n",
        "\n",
        "# Mostrar gráfico\n",
        "plt.show()\n",
        "\n"
      ],
      "metadata": {
        "id": "SHL8cWUhin3a"
      },
      "execution_count": null,
      "outputs": []
    },
    {
      "cell_type": "markdown",
      "source": [
        "Paso 4: Gráficos por ubicación (county)\n",
        "Mostramos los 10 condados con más registros."
      ],
      "metadata": {
        "id": "nuPESfF-izcj"
      }
    },
    {
      "cell_type": "code",
      "source": [
        "import matplotlib.pyplot as plt\n",
        "import seaborn as sns\n",
        "\n",
        "# Identificar los 10 condados con más registros\n",
        "top_counties = metadata['county'].value_counts().head(10)\n",
        "\n",
        "# Configurar estilo de Seaborn para hacer el gráfico más atractivo\n",
        "sns.set_style('whitegrid')  # Establece un estilo con fondo de cuadrícula\n",
        "\n",
        "# Gráfico de barras de los condados\n",
        "plt.figure(figsize=(12, 6))  # Tamaño del gráfico\n",
        "\n",
        "# Usar el parámetro hue asignando el eje x para evitar el warning\n",
        "sns.barplot(x=top_counties.index, y=top_counties.values, palette='Blues_d', hue=top_counties.index)\n",
        "\n",
        "# Personalización del gráfico\n",
        "plt.title('Top 10 Condados con Más Registros', fontsize=16, fontweight='bold')  # Título con negrita\n",
        "plt.xlabel('Condado', fontsize=14)  # Etiqueta del eje X con tamaño de fuente mayor\n",
        "plt.ylabel('Cantidad', fontsize=14)  # Etiqueta del eje Y con tamaño de fuente mayor\n",
        "\n",
        "# Rotación de las etiquetas del eje X para mejor visualización\n",
        "plt.xticks(rotation=45, ha='right', fontsize=12)  # ha='right' alinea las etiquetas a la derecha\n",
        "\n",
        "# Mostrar la cuadrícula solo en el eje Y\n",
        "plt.grid(axis='y', linestyle='--', alpha=0.7)\n",
        "\n",
        "# Mostrar el gráfico\n",
        "plt.tight_layout()  # Ajusta el gráfico\n",
        "\n"
      ],
      "metadata": {
        "id": "SlzLR7GBi1_1"
      },
      "execution_count": null,
      "outputs": []
    },
    {
      "cell_type": "markdown",
      "source": [
        "Paso 5: Limpieza final del dataset"
      ],
      "metadata": {
        "id": "p0hnpGp4j0hj"
      }
    },
    {
      "cell_type": "code",
      "source": [
        "# Eliminar filas con valores nulos en la columna 'age'\n",
        "metadata_cleaned = metadata.dropna(subset=['age'])\n",
        "\n",
        "# Mostrar la información del dataset limpio\n",
        "print(\"Información del dataset limpio:\")\n",
        "metadata_cleaned.info()\n"
      ],
      "metadata": {
        "id": "16Rl-eHjj1aS"
      },
      "execution_count": null,
      "outputs": []
    }
  ]
}