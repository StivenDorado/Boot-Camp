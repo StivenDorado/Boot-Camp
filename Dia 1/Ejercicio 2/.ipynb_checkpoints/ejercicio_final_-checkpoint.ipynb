{
  "nbformat": 4,
  "nbformat_minor": 0,
  "metadata": {
    "colab": {
      "provenance": []
    },
    "kernelspec": {
      "name": "python3",
      "display_name": "Python 3"
    },
    "language_info": {
      "name": "python"
    }
  },
  "cells": [
    {
      "cell_type": "markdown",
      "source": [
        "# \"Ventas de Productos de Moda por Categoría y Región (Enero - Octubre 2024)\"\n",
        "\n",
        "Descripción:\n",
        "\n",
        "Este dataset contiene información sobre las transacciones de ventas de productos de moda realizadas entre enero y octubre de 2024. Los registros incluyen detalles como la fecha de la venta, el nombre del cliente, el producto adquirido, la categoría del producto (Accesorios, Ropa Hombre, Ropa Mujer, Calzado), la cantidad comprada, el precio unitario, el total de la venta y la región de compra. Las categorías de productos más destacadas son los bolsos, zapatos, pantalones y sombreros, con ventas distribuidas en diversas regiones del país (Norte, Este, Oeste, Centro, Sur).\n",
        "\n",
        "El análisis de este dataset permite observar tendencias de consumo por región y categoría, así como el comportamiento de precios y las cantidades más vendidas a lo largo del año. Además, proporciona información útil para optimizar estrategias de marketing y ventas dirigidas a diferentes segmentos geográficos y de productos."
      ],
      "metadata": {
        "id": "VvVwbWml0KW3"
      }
    },
    {
      "cell_type": "markdown",
      "source": [
        "Código para Subir y Cargar el CSV en Python:"
      ],
      "metadata": {
        "id": "gPRnWEkJ3F0q"
      }
    },
    {
      "cell_type": "code",
      "source": [
        "from google.colab import files\n",
        "uploaded = files.upload()"
      ],
      "metadata": {
        "colab": {
          "base_uri": "https://localhost:8080/",
          "height": 73
        },
        "id": "llEFCTB53bkC",
        "outputId": "80b51c22-d6f3-4bcf-990a-61f072162c35"
      },
      "execution_count": 2,
      "outputs": [
        {
          "output_type": "display_data",
          "data": {
            "text/plain": [
              "<IPython.core.display.HTML object>"
            ],
            "text/html": [
              "\n",
              "     <input type=\"file\" id=\"files-80c84ee4-d212-44ab-a1b0-9895f4b634f4\" name=\"files[]\" multiple disabled\n",
              "        style=\"border:none\" />\n",
              "     <output id=\"result-80c84ee4-d212-44ab-a1b0-9895f4b634f4\">\n",
              "      Upload widget is only available when the cell has been executed in the\n",
              "      current browser session. Please rerun this cell to enable.\n",
              "      </output>\n",
              "      <script>// Copyright 2017 Google LLC\n",
              "//\n",
              "// Licensed under the Apache License, Version 2.0 (the \"License\");\n",
              "// you may not use this file except in compliance with the License.\n",
              "// You may obtain a copy of the License at\n",
              "//\n",
              "//      http://www.apache.org/licenses/LICENSE-2.0\n",
              "//\n",
              "// Unless required by applicable law or agreed to in writing, software\n",
              "// distributed under the License is distributed on an \"AS IS\" BASIS,\n",
              "// WITHOUT WARRANTIES OR CONDITIONS OF ANY KIND, either express or implied.\n",
              "// See the License for the specific language governing permissions and\n",
              "// limitations under the License.\n",
              "\n",
              "/**\n",
              " * @fileoverview Helpers for google.colab Python module.\n",
              " */\n",
              "(function(scope) {\n",
              "function span(text, styleAttributes = {}) {\n",
              "  const element = document.createElement('span');\n",
              "  element.textContent = text;\n",
              "  for (const key of Object.keys(styleAttributes)) {\n",
              "    element.style[key] = styleAttributes[key];\n",
              "  }\n",
              "  return element;\n",
              "}\n",
              "\n",
              "// Max number of bytes which will be uploaded at a time.\n",
              "const MAX_PAYLOAD_SIZE = 100 * 1024;\n",
              "\n",
              "function _uploadFiles(inputId, outputId) {\n",
              "  const steps = uploadFilesStep(inputId, outputId);\n",
              "  const outputElement = document.getElementById(outputId);\n",
              "  // Cache steps on the outputElement to make it available for the next call\n",
              "  // to uploadFilesContinue from Python.\n",
              "  outputElement.steps = steps;\n",
              "\n",
              "  return _uploadFilesContinue(outputId);\n",
              "}\n",
              "\n",
              "// This is roughly an async generator (not supported in the browser yet),\n",
              "// where there are multiple asynchronous steps and the Python side is going\n",
              "// to poll for completion of each step.\n",
              "// This uses a Promise to block the python side on completion of each step,\n",
              "// then passes the result of the previous step as the input to the next step.\n",
              "function _uploadFilesContinue(outputId) {\n",
              "  const outputElement = document.getElementById(outputId);\n",
              "  const steps = outputElement.steps;\n",
              "\n",
              "  const next = steps.next(outputElement.lastPromiseValue);\n",
              "  return Promise.resolve(next.value.promise).then((value) => {\n",
              "    // Cache the last promise value to make it available to the next\n",
              "    // step of the generator.\n",
              "    outputElement.lastPromiseValue = value;\n",
              "    return next.value.response;\n",
              "  });\n",
              "}\n",
              "\n",
              "/**\n",
              " * Generator function which is called between each async step of the upload\n",
              " * process.\n",
              " * @param {string} inputId Element ID of the input file picker element.\n",
              " * @param {string} outputId Element ID of the output display.\n",
              " * @return {!Iterable<!Object>} Iterable of next steps.\n",
              " */\n",
              "function* uploadFilesStep(inputId, outputId) {\n",
              "  const inputElement = document.getElementById(inputId);\n",
              "  inputElement.disabled = false;\n",
              "\n",
              "  const outputElement = document.getElementById(outputId);\n",
              "  outputElement.innerHTML = '';\n",
              "\n",
              "  const pickedPromise = new Promise((resolve) => {\n",
              "    inputElement.addEventListener('change', (e) => {\n",
              "      resolve(e.target.files);\n",
              "    });\n",
              "  });\n",
              "\n",
              "  const cancel = document.createElement('button');\n",
              "  inputElement.parentElement.appendChild(cancel);\n",
              "  cancel.textContent = 'Cancel upload';\n",
              "  const cancelPromise = new Promise((resolve) => {\n",
              "    cancel.onclick = () => {\n",
              "      resolve(null);\n",
              "    };\n",
              "  });\n",
              "\n",
              "  // Wait for the user to pick the files.\n",
              "  const files = yield {\n",
              "    promise: Promise.race([pickedPromise, cancelPromise]),\n",
              "    response: {\n",
              "      action: 'starting',\n",
              "    }\n",
              "  };\n",
              "\n",
              "  cancel.remove();\n",
              "\n",
              "  // Disable the input element since further picks are not allowed.\n",
              "  inputElement.disabled = true;\n",
              "\n",
              "  if (!files) {\n",
              "    return {\n",
              "      response: {\n",
              "        action: 'complete',\n",
              "      }\n",
              "    };\n",
              "  }\n",
              "\n",
              "  for (const file of files) {\n",
              "    const li = document.createElement('li');\n",
              "    li.append(span(file.name, {fontWeight: 'bold'}));\n",
              "    li.append(span(\n",
              "        `(${file.type || 'n/a'}) - ${file.size} bytes, ` +\n",
              "        `last modified: ${\n",
              "            file.lastModifiedDate ? file.lastModifiedDate.toLocaleDateString() :\n",
              "                                    'n/a'} - `));\n",
              "    const percent = span('0% done');\n",
              "    li.appendChild(percent);\n",
              "\n",
              "    outputElement.appendChild(li);\n",
              "\n",
              "    const fileDataPromise = new Promise((resolve) => {\n",
              "      const reader = new FileReader();\n",
              "      reader.onload = (e) => {\n",
              "        resolve(e.target.result);\n",
              "      };\n",
              "      reader.readAsArrayBuffer(file);\n",
              "    });\n",
              "    // Wait for the data to be ready.\n",
              "    let fileData = yield {\n",
              "      promise: fileDataPromise,\n",
              "      response: {\n",
              "        action: 'continue',\n",
              "      }\n",
              "    };\n",
              "\n",
              "    // Use a chunked sending to avoid message size limits. See b/62115660.\n",
              "    let position = 0;\n",
              "    do {\n",
              "      const length = Math.min(fileData.byteLength - position, MAX_PAYLOAD_SIZE);\n",
              "      const chunk = new Uint8Array(fileData, position, length);\n",
              "      position += length;\n",
              "\n",
              "      const base64 = btoa(String.fromCharCode.apply(null, chunk));\n",
              "      yield {\n",
              "        response: {\n",
              "          action: 'append',\n",
              "          file: file.name,\n",
              "          data: base64,\n",
              "        },\n",
              "      };\n",
              "\n",
              "      let percentDone = fileData.byteLength === 0 ?\n",
              "          100 :\n",
              "          Math.round((position / fileData.byteLength) * 100);\n",
              "      percent.textContent = `${percentDone}% done`;\n",
              "\n",
              "    } while (position < fileData.byteLength);\n",
              "  }\n",
              "\n",
              "  // All done.\n",
              "  yield {\n",
              "    response: {\n",
              "      action: 'complete',\n",
              "    }\n",
              "  };\n",
              "}\n",
              "\n",
              "scope.google = scope.google || {};\n",
              "scope.google.colab = scope.google.colab || {};\n",
              "scope.google.colab._files = {\n",
              "  _uploadFiles,\n",
              "  _uploadFilesContinue,\n",
              "};\n",
              "})(self);\n",
              "</script> "
            ]
          },
          "metadata": {}
        },
        {
          "output_type": "stream",
          "name": "stdout",
          "text": [
            "Saving datos_tienda_50_registros.csv to datos_tienda_50_registros.csv\n"
          ]
        }
      ]
    },
    {
      "cell_type": "code",
      "source": [
        "import pandas as pd\n",
        "\n",
        "# Cargar el archivo CSV desde la ruta\n",
        "file_path = \"datos_tienda_50_registros.csv\"\n",
        "df = pd.read_csv(file_path)\n",
        "\n",
        "# Mostrar las primeras filas del dataframe para verificar que se ha cargado correctamente\n",
        "\n",
        "print(df.head())\n"
      ],
      "metadata": {
        "collapsed": true,
        "id": "CdNA8gop3IPu"
      },
      "execution_count": null,
      "outputs": []
    },
    {
      "cell_type": "markdown",
      "source": [
        "Si las fechas no están uniformes, puedes convertirlas a un formato estándar (por ejemplo, YYYY-MM-DD):"
      ],
      "metadata": {
        "id": "BC2x7O060hoj"
      }
    },
    {
      "cell_type": "code",
      "source": [
        "df['Fecha'] = pd.to_datetime(df['Fecha'], format='mixed', dayfirst=True)\n",
        "\n",
        "# Verificar el resultado\n",
        "print(df['Fecha'].head())"
      ],
      "metadata": {
        "id": "34AeU4fs0ck1"
      },
      "execution_count": null,
      "outputs": []
    },
    {
      "cell_type": "code",
      "source": [
        "print(df.head())"
      ],
      "metadata": {
        "id": "wDnGEeSU1Ze3"
      },
      "execution_count": null,
      "outputs": []
    },
    {
      "cell_type": "markdown",
      "source": [
        "Lidiar con valores NaT:\n",
        "Podemos intentar limpiar las filas que no tienen una fecha válida. Si los valores son realmente vacíos o contienen texto inesperado, podemos:\n",
        "\n",
        "Eliminar las filas con fechas no válidas.\n",
        "Asignar una fecha predeterminada para los casos con NaT.\n",
        "Eliminar las filas con NaT:"
      ],
      "metadata": {
        "id": "NrMNQac8-wV1"
      }
    },
    {
      "cell_type": "code",
      "source": [
        "df_cleaned = df.dropna(subset=['Fecha'])\n",
        "print(df_cleaned)"
      ],
      "metadata": {
        "id": "K26HqAic-QxQ"
      },
      "execution_count": null,
      "outputs": []
    },
    {
      "cell_type": "markdown",
      "source": [
        "2. Eliminar los valores negativos en la columna 'Cantidad':\n",
        "Puedes corregir los valores negativos con abs() para que todas las cantidades sean positivas:"
      ],
      "metadata": {
        "id": "cofrdE5G_KCn"
      }
    },
    {
      "cell_type": "code",
      "source": [
        "df['Cantidad'] = df['Cantidad'].abs()\n",
        "\n",
        "# Verificar los cambios\n",
        "print(df['Cantidad'].head())"
      ],
      "metadata": {
        "id": "yauupr7G_QMH"
      },
      "execution_count": null,
      "outputs": []
    },
    {
      "cell_type": "code",
      "source": [
        "print(df.head())"
      ],
      "metadata": {
        "id": "kqwnK8Af1hPw"
      },
      "execution_count": null,
      "outputs": []
    },
    {
      "cell_type": "markdown",
      "source": [
        "4. Analizar las ventas por categoría:\n",
        "Si deseas analizar cuál es la categoría más vendida, puedes agrupar por 'Categoría' y sumar la 'Cantidad':"
      ],
      "metadata": {
        "id": "UFcEAWQGyPjx"
      }
    },
    {
      "cell_type": "code",
      "source": [
        "categoria_ventas = df.groupby('Categoría')['Cantidad'].sum()\n",
        "\n",
        "# Verificar el análisis\n",
        "print(categoria_ventas)"
      ],
      "metadata": {
        "id": "Jm-J24o7yRGN"
      },
      "execution_count": null,
      "outputs": []
    },
    {
      "cell_type": "markdown",
      "source": [
        "5. Visualizar las ventas por región:\n",
        "Para generar un gráfico con las ventas por región, puedes usar matplotlib:"
      ],
      "metadata": {
        "id": "nqb5pO0eydyd"
      }
    },
    {
      "cell_type": "code",
      "source": [
        "import matplotlib.pyplot as plt\n",
        "\n",
        "ventas_por_region = df.groupby('Región')['Total'].sum()\n",
        "\n",
        "# Crear el gráfico de barras\n",
        "ventas_por_region.plot(kind='bar', color='teal')\n",
        "plt.title('Ventas Totales por Región')\n",
        "plt.xlabel('Región')\n",
        "plt.ylabel('Total Ventas')\n",
        "plt.show()"
      ],
      "metadata": {
        "id": "1QUkXy-LyhWv"
      },
      "execution_count": null,
      "outputs": []
    }
  ]
}